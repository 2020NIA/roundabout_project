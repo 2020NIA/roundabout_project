{
 "cells": [
  {
   "cell_type": "code",
   "execution_count": 12,
   "metadata": {},
   "outputs": [],
   "source": [
    "import pandas as pd\n",
    "import numpy as np\n",
    "import warnings\n",
    "warnings.filterwarnings('ignore')\n",
    "import seaborn as sns\n",
    "import matplotlib.pyplot as plt"
   ]
  },
  {
   "cell_type": "code",
   "execution_count": 2,
   "metadata": {},
   "outputs": [],
   "source": [
    "data=pd.read_csv('원형교차로(2019.12).csv',encoding='cp949')"
   ]
  },
  {
   "cell_type": "code",
   "execution_count": 3,
   "metadata": {},
   "outputs": [
    {
     "data": {
      "text/plain": [
       "교차로명                  0\n",
       "시도                    0\n",
       "시군구                   0\n",
       "도로명                  23\n",
       "기타주소                 31\n",
       "도로등급                  0\n",
       "시행청                   3\n",
       "준공연도                  7\n",
       "교차로 유형                0\n",
       "회전교차로 유형             22\n",
       "로터리 유형             1389\n",
       "스쿨존 내\\n위치여부        1327\n",
       "교차로 내 신호 여부        1386\n",
       "접근로 진입부\\n양보선 여부     108\n",
       "계                  1256\n",
       "신규추가               1303\n",
       "누락추가               1365\n",
       "비고                 1409\n",
       "위도                    0\n",
       "경도                    0\n",
       "dtype: int64"
      ]
     },
     "execution_count": 3,
     "metadata": {},
     "output_type": "execute_result"
    }
   ],
   "source": [
    "data.isnull().sum()"
   ]
  },
  {
   "cell_type": "code",
   "execution_count": 17,
   "metadata": {},
   "outputs": [],
   "source": [
    "idx = data[data['경도']>=130].index"
   ]
  },
  {
   "cell_type": "code",
   "execution_count": 18,
   "metadata": {},
   "outputs": [
    {
     "data": {
      "text/html": [
       "<div>\n",
       "<style scoped>\n",
       "    .dataframe tbody tr th:only-of-type {\n",
       "        vertical-align: middle;\n",
       "    }\n",
       "\n",
       "    .dataframe tbody tr th {\n",
       "        vertical-align: top;\n",
       "    }\n",
       "\n",
       "    .dataframe thead th {\n",
       "        text-align: right;\n",
       "    }\n",
       "</style>\n",
       "<table border=\"1\" class=\"dataframe\">\n",
       "  <thead>\n",
       "    <tr style=\"text-align: right;\">\n",
       "      <th></th>\n",
       "      <th>교차로명</th>\n",
       "      <th>시도</th>\n",
       "      <th>시군구</th>\n",
       "      <th>도로명</th>\n",
       "      <th>기타주소</th>\n",
       "      <th>도로등급</th>\n",
       "      <th>시행청</th>\n",
       "      <th>준공연도</th>\n",
       "      <th>교차로 유형</th>\n",
       "      <th>회전교차로 유형</th>\n",
       "      <th>로터리 유형</th>\n",
       "      <th>스쿨존 내\\n위치여부</th>\n",
       "      <th>교차로 내 신호 여부</th>\n",
       "      <th>접근로 진입부\\n양보선 여부</th>\n",
       "      <th>계</th>\n",
       "      <th>신규추가</th>\n",
       "      <th>누락추가</th>\n",
       "      <th>비고</th>\n",
       "      <th>위도</th>\n",
       "      <th>경도</th>\n",
       "    </tr>\n",
       "  </thead>\n",
       "  <tbody>\n",
       "    <tr>\n",
       "      <th>612</th>\n",
       "      <td>영흥리 내성길(동양주택 앞)</td>\n",
       "      <td>강원도</td>\n",
       "      <td>영월군</td>\n",
       "      <td>내성길</td>\n",
       "      <td>영흥리 771-2</td>\n",
       "      <td>도시계획도로</td>\n",
       "      <td>지자체</td>\n",
       "      <td>2009</td>\n",
       "      <td>4지</td>\n",
       "      <td>1차로형</td>\n",
       "      <td>NaN</td>\n",
       "      <td>NaN</td>\n",
       "      <td>NaN</td>\n",
       "      <td>NaN</td>\n",
       "      <td>NaN</td>\n",
       "      <td>NaN</td>\n",
       "      <td>NaN</td>\n",
       "      <td>NaN</td>\n",
       "      <td>37.18788</td>\n",
       "      <td>128474152.0</td>\n",
       "    </tr>\n",
       "    <tr>\n",
       "      <th>1386</th>\n",
       "      <td>세화1리 사거리</td>\n",
       "      <td>제주특별자치도</td>\n",
       "      <td>서귀포시</td>\n",
       "      <td>세성로</td>\n",
       "      <td>445</td>\n",
       "      <td>6</td>\n",
       "      <td>행정안전부</td>\n",
       "      <td>2012</td>\n",
       "      <td>4지</td>\n",
       "      <td>1차로형</td>\n",
       "      <td>NaN</td>\n",
       "      <td>NaN</td>\n",
       "      <td>NaN</td>\n",
       "      <td>O</td>\n",
       "      <td>NaN</td>\n",
       "      <td>NaN</td>\n",
       "      <td>NaN</td>\n",
       "      <td>NaN</td>\n",
       "      <td>33.341277</td>\n",
       "      <td>126795412.0</td>\n",
       "    </tr>\n",
       "  </tbody>\n",
       "</table>\n",
       "</div>"
      ],
      "text/plain": [
       "                 교차로명       시도   시군구  도로명       기타주소    도로등급    시행청  준공연도  \\\n",
       "612   영흥리 내성길(동양주택 앞)      강원도   영월군  내성길  영흥리 771-2  도시계획도로    지자체  2009   \n",
       "1386         세화1리 사거리  제주특별자치도  서귀포시  세성로        445       6  행정안전부  2012   \n",
       "\n",
       "     교차로 유형 회전교차로 유형  로터리 유형 스쿨존 내\\n위치여부 교차로 내 신호 여부 접근로 진입부\\n양보선 여부   계 신규추가  \\\n",
       "612      4지      1차로형    NaN         NaN         NaN             NaN NaN  NaN   \n",
       "1386     4지      1차로형    NaN         NaN         NaN               O NaN  NaN   \n",
       "\n",
       "     누락추가   비고         위도           경도  \n",
       "612   NaN  NaN   37.18788  128474152.0  \n",
       "1386  NaN  NaN  33.341277  126795412.0  "
      ]
     },
     "execution_count": 18,
     "metadata": {},
     "output_type": "execute_result"
    }
   ],
   "source": [
    "data.iloc[idx]"
   ]
  },
  {
   "cell_type": "code",
   "execution_count": 19,
   "metadata": {},
   "outputs": [
    {
     "name": "stderr",
     "output_type": "stream",
     "text": [
      "C:\\Users\\Admin\\anaconda3\\lib\\site-packages\\ipykernel_launcher.py:1: SettingWithCopyWarning: \n",
      "A value is trying to be set on a copy of a slice from a DataFrame\n",
      "\n",
      "See the caveats in the documentation: https://pandas.pydata.org/pandas-docs/stable/user_guide/indexing.html#returning-a-view-versus-a-copy\n",
      "  \"\"\"Entry point for launching an IPython kernel.\n",
      "C:\\Users\\Admin\\anaconda3\\lib\\site-packages\\ipykernel_launcher.py:2: SettingWithCopyWarning: \n",
      "A value is trying to be set on a copy of a slice from a DataFrame\n",
      "\n",
      "See the caveats in the documentation: https://pandas.pydata.org/pandas-docs/stable/user_guide/indexing.html#returning-a-view-versus-a-copy\n",
      "  \n"
     ]
    }
   ],
   "source": [
    "data['경도'][idx[0]] = 128.474152\n",
    "data['경도'][idx[1]] = 126.795412"
   ]
  },
  {
   "cell_type": "code",
   "execution_count": 57,
   "metadata": {},
   "outputs": [],
   "source": [
    "data['준공연도'] = data['준공연도'].apply(lambda x: x[:4])"
   ]
  },
  {
   "cell_type": "code",
   "execution_count": 58,
   "metadata": {},
   "outputs": [
    {
     "data": {
      "text/plain": [
       "array(['2005', '2012', '2009', '2013', '2017', '2015', '2016', '2014',\n",
       "       '연도미상', '2011', '2002', '2008', '1990', '2006', '2010', '2018',\n",
       "       '2007', '2003', '2019', '1994', '2000', '1997', '2020', '1985',\n",
       "       '2004', '1970', '1960', '1978', '1995', '미상', '1980', '1957',\n",
       "       '1975'], dtype=object)"
      ]
     },
     "execution_count": 58,
     "metadata": {},
     "output_type": "execute_result"
    }
   ],
   "source": [
    "data['준공연도'].unique()"
   ]
  },
  {
   "cell_type": "code",
   "execution_count": 59,
   "metadata": {},
   "outputs": [
    {
     "data": {
      "text/plain": [
       "(1412, 20)"
      ]
     },
     "execution_count": 59,
     "metadata": {},
     "output_type": "execute_result"
    }
   ],
   "source": [
    "data.shape"
   ]
  },
  {
   "cell_type": "code",
   "execution_count": 62,
   "metadata": {},
   "outputs": [],
   "source": [
    "naidx = data[data['준공연도'] == '연도미상'].index"
   ]
  },
  {
   "cell_type": "code",
   "execution_count": 64,
   "metadata": {},
   "outputs": [],
   "source": [
    "data['준공연도'][naidx] = '미상'"
   ]
  },
  {
   "cell_type": "code",
   "execution_count": 65,
   "metadata": {},
   "outputs": [
    {
     "data": {
      "text/plain": [
       "array(['2005', '2012', '2009', '2013', '2017', '2015', '2016', '2014',\n",
       "       '미상', '2011', '2002', '2008', '1990', '2006', '2010', '2018',\n",
       "       '2007', '2003', '2019', '1994', '2000', '1997', '2020', '1985',\n",
       "       '2004', '1970', '1960', '1978', '1995', '1980', '1957', '1975'],\n",
       "      dtype=object)"
      ]
     },
     "execution_count": 65,
     "metadata": {},
     "output_type": "execute_result"
    }
   ],
   "source": [
    "data['준공연도'].unique()"
   ]
  },
  {
   "cell_type": "code",
   "execution_count": 66,
   "metadata": {},
   "outputs": [],
   "source": [
    "# data.to_csv('원형교차로(연도불명 포함).csv',index=False)"
   ]
  }
 ],
 "metadata": {
  "kernelspec": {
   "display_name": "Python 3",
   "language": "python",
   "name": "python3"
  },
  "language_info": {
   "codemirror_mode": {
    "name": "ipython",
    "version": 3
   },
   "file_extension": ".py",
   "mimetype": "text/x-python",
   "name": "python",
   "nbconvert_exporter": "python",
   "pygments_lexer": "ipython3",
   "version": "3.7.6"
  }
 },
 "nbformat": 4,
 "nbformat_minor": 4
}

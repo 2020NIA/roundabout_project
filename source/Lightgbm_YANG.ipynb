{
 "cells": [
  {
   "cell_type": "code",
   "execution_count": 40,
   "metadata": {},
   "outputs": [],
   "source": [
    "import pandas as pd\n",
    "import numpy as np\n",
    "from sklearn.linear_model import LinearRegression\n",
    "from sklearn.model_selection import train_test_split\n",
    "from sklearn.preprocessing import OneHotEncoder\n",
    "from sklearn.metrics import mean_squared_error, r2_score\n",
    "import seaborn as sns\n",
    "import lightgbm as lgb"
   ]
  },
  {
   "cell_type": "code",
   "execution_count": 41,
   "metadata": {},
   "outputs": [],
   "source": [
    "label = pd.read_csv('/Users/yangdongjae/Desktop/2020/대외활동/2020년 공공 빅데이터 청년 인턴십/실무형 프로젝트/roundabout_project/data/전국사고csv.csv', encoding = 'cp949')"
   ]
  },
  {
   "cell_type": "code",
   "execution_count": 42,
   "metadata": {},
   "outputs": [
    {
     "data": {
      "text/html": [
       "<div>\n",
       "<style scoped>\n",
       "    .dataframe tbody tr th:only-of-type {\n",
       "        vertical-align: middle;\n",
       "    }\n",
       "\n",
       "    .dataframe tbody tr th {\n",
       "        vertical-align: top;\n",
       "    }\n",
       "\n",
       "    .dataframe thead th {\n",
       "        text-align: right;\n",
       "    }\n",
       "</style>\n",
       "<table border=\"1\" class=\"dataframe\">\n",
       "  <thead>\n",
       "    <tr style=\"text-align: right;\">\n",
       "      <th></th>\n",
       "      <th>OBJT_ID</th>\n",
       "      <th>OCCU_YEAR</th>\n",
       "      <th>OCCU_MT</th>\n",
       "      <th>OCCU_DE</th>\n",
       "      <th>OCCU_TM</th>\n",
       "      <th>OCCU_DAY</th>\n",
       "      <th>OCCU_DATE</th>\n",
       "      <th>LCLAS</th>\n",
       "      <th>SCLAS</th>\n",
       "      <th>DEATH</th>\n",
       "      <th>...</th>\n",
       "      <th>DRNKG</th>\n",
       "      <th>KID</th>\n",
       "      <th>ODSN</th>\n",
       "      <th>WLKG</th>\n",
       "      <th>VIOLT_CN</th>\n",
       "      <th>CTPRVN_CD</th>\n",
       "      <th>SGG_CD</th>\n",
       "      <th>EMD_CD</th>\n",
       "      <th>X</th>\n",
       "      <th>Y</th>\n",
       "    </tr>\n",
       "  </thead>\n",
       "  <tbody>\n",
       "    <tr>\n",
       "      <th>0</th>\n",
       "      <td>1</td>\n",
       "      <td>2016</td>\n",
       "      <td>2</td>\n",
       "      <td>27</td>\n",
       "      <td>16</td>\n",
       "      <td>토요일</td>\n",
       "      <td>20160227</td>\n",
       "      <td>경상사고</td>\n",
       "      <td>차대차</td>\n",
       "      <td>0</td>\n",
       "      <td>...</td>\n",
       "      <td>NaN</td>\n",
       "      <td>NaN</td>\n",
       "      <td>NaN</td>\n",
       "      <td>NaN</td>\n",
       "      <td>안전거리 미확보</td>\n",
       "      <td>11</td>\n",
       "      <td>11110</td>\n",
       "      <td>11110101</td>\n",
       "      <td>1.413422e+07</td>\n",
       "      <td>4.521789e+06</td>\n",
       "    </tr>\n",
       "    <tr>\n",
       "      <th>1</th>\n",
       "      <td>2</td>\n",
       "      <td>2016</td>\n",
       "      <td>2</td>\n",
       "      <td>28</td>\n",
       "      <td>19</td>\n",
       "      <td>일요일</td>\n",
       "      <td>20160228</td>\n",
       "      <td>중상사고</td>\n",
       "      <td>차대차</td>\n",
       "      <td>0</td>\n",
       "      <td>...</td>\n",
       "      <td>NaN</td>\n",
       "      <td>NaN</td>\n",
       "      <td>NaN</td>\n",
       "      <td>NaN</td>\n",
       "      <td>안전운전 의무 불이행</td>\n",
       "      <td>11</td>\n",
       "      <td>11110</td>\n",
       "      <td>11110101</td>\n",
       "      <td>1.413420e+07</td>\n",
       "      <td>4.521219e+06</td>\n",
       "    </tr>\n",
       "    <tr>\n",
       "      <th>2</th>\n",
       "      <td>3</td>\n",
       "      <td>2016</td>\n",
       "      <td>3</td>\n",
       "      <td>28</td>\n",
       "      <td>7</td>\n",
       "      <td>월요일</td>\n",
       "      <td>20160328</td>\n",
       "      <td>중상사고</td>\n",
       "      <td>차대차</td>\n",
       "      <td>0</td>\n",
       "      <td>...</td>\n",
       "      <td>NaN</td>\n",
       "      <td>NaN</td>\n",
       "      <td>NaN</td>\n",
       "      <td>NaN</td>\n",
       "      <td>안전거리 미확보</td>\n",
       "      <td>11</td>\n",
       "      <td>11110</td>\n",
       "      <td>11110101</td>\n",
       "      <td>1.413455e+07</td>\n",
       "      <td>4.521176e+06</td>\n",
       "    </tr>\n",
       "    <tr>\n",
       "      <th>3</th>\n",
       "      <td>4</td>\n",
       "      <td>2016</td>\n",
       "      <td>4</td>\n",
       "      <td>5</td>\n",
       "      <td>13</td>\n",
       "      <td>화요일</td>\n",
       "      <td>20160405</td>\n",
       "      <td>경상사고</td>\n",
       "      <td>차대차</td>\n",
       "      <td>0</td>\n",
       "      <td>...</td>\n",
       "      <td>NaN</td>\n",
       "      <td>NaN</td>\n",
       "      <td>O</td>\n",
       "      <td>NaN</td>\n",
       "      <td>안전운전 의무 불이행</td>\n",
       "      <td>11</td>\n",
       "      <td>11110</td>\n",
       "      <td>11110101</td>\n",
       "      <td>1.413401e+07</td>\n",
       "      <td>4.521163e+06</td>\n",
       "    </tr>\n",
       "    <tr>\n",
       "      <th>4</th>\n",
       "      <td>5</td>\n",
       "      <td>2016</td>\n",
       "      <td>5</td>\n",
       "      <td>15</td>\n",
       "      <td>19</td>\n",
       "      <td>일요일</td>\n",
       "      <td>20160515</td>\n",
       "      <td>경상사고</td>\n",
       "      <td>차대차</td>\n",
       "      <td>0</td>\n",
       "      <td>...</td>\n",
       "      <td>NaN</td>\n",
       "      <td>O</td>\n",
       "      <td>NaN</td>\n",
       "      <td>NaN</td>\n",
       "      <td>안전거리 미확보</td>\n",
       "      <td>11</td>\n",
       "      <td>11110</td>\n",
       "      <td>11110101</td>\n",
       "      <td>1.413422e+07</td>\n",
       "      <td>4.521177e+06</td>\n",
       "    </tr>\n",
       "    <tr>\n",
       "      <th>...</th>\n",
       "      <td>...</td>\n",
       "      <td>...</td>\n",
       "      <td>...</td>\n",
       "      <td>...</td>\n",
       "      <td>...</td>\n",
       "      <td>...</td>\n",
       "      <td>...</td>\n",
       "      <td>...</td>\n",
       "      <td>...</td>\n",
       "      <td>...</td>\n",
       "      <td>...</td>\n",
       "      <td>...</td>\n",
       "      <td>...</td>\n",
       "      <td>...</td>\n",
       "      <td>...</td>\n",
       "      <td>...</td>\n",
       "      <td>...</td>\n",
       "      <td>...</td>\n",
       "      <td>...</td>\n",
       "      <td>...</td>\n",
       "      <td>...</td>\n",
       "    </tr>\n",
       "    <tr>\n",
       "      <th>654354</th>\n",
       "      <td>654355</td>\n",
       "      <td>2018</td>\n",
       "      <td>12</td>\n",
       "      <td>15</td>\n",
       "      <td>16</td>\n",
       "      <td>토요일</td>\n",
       "      <td>20181215</td>\n",
       "      <td>경상사고</td>\n",
       "      <td>차대차</td>\n",
       "      <td>0</td>\n",
       "      <td>...</td>\n",
       "      <td>NaN</td>\n",
       "      <td>NaN</td>\n",
       "      <td>NaN</td>\n",
       "      <td>NaN</td>\n",
       "      <td>신호위반</td>\n",
       "      <td>50</td>\n",
       "      <td>50130</td>\n",
       "      <td>50130320</td>\n",
       "      <td>1.411856e+07</td>\n",
       "      <td>3.939567e+06</td>\n",
       "    </tr>\n",
       "    <tr>\n",
       "      <th>654355</th>\n",
       "      <td>654356</td>\n",
       "      <td>2018</td>\n",
       "      <td>12</td>\n",
       "      <td>15</td>\n",
       "      <td>23</td>\n",
       "      <td>토요일</td>\n",
       "      <td>20181215</td>\n",
       "      <td>경상사고</td>\n",
       "      <td>차대차</td>\n",
       "      <td>0</td>\n",
       "      <td>...</td>\n",
       "      <td>NaN</td>\n",
       "      <td>NaN</td>\n",
       "      <td>O</td>\n",
       "      <td>NaN</td>\n",
       "      <td>신호위반</td>\n",
       "      <td>50</td>\n",
       "      <td>50130</td>\n",
       "      <td>50130320</td>\n",
       "      <td>1.411837e+07</td>\n",
       "      <td>3.940935e+06</td>\n",
       "    </tr>\n",
       "    <tr>\n",
       "      <th>654356</th>\n",
       "      <td>654357</td>\n",
       "      <td>2018</td>\n",
       "      <td>12</td>\n",
       "      <td>18</td>\n",
       "      <td>18</td>\n",
       "      <td>화요일</td>\n",
       "      <td>20181218</td>\n",
       "      <td>중상사고</td>\n",
       "      <td>차대차</td>\n",
       "      <td>0</td>\n",
       "      <td>...</td>\n",
       "      <td>NaN</td>\n",
       "      <td>NaN</td>\n",
       "      <td>NaN</td>\n",
       "      <td>NaN</td>\n",
       "      <td>안전운전 의무 불이행</td>\n",
       "      <td>50</td>\n",
       "      <td>50130</td>\n",
       "      <td>50130320</td>\n",
       "      <td>1.411768e+07</td>\n",
       "      <td>3.938694e+06</td>\n",
       "    </tr>\n",
       "    <tr>\n",
       "      <th>654357</th>\n",
       "      <td>654358</td>\n",
       "      <td>2018</td>\n",
       "      <td>12</td>\n",
       "      <td>21</td>\n",
       "      <td>11</td>\n",
       "      <td>금요일</td>\n",
       "      <td>20181221</td>\n",
       "      <td>중상사고</td>\n",
       "      <td>차대사람</td>\n",
       "      <td>0</td>\n",
       "      <td>...</td>\n",
       "      <td>NaN</td>\n",
       "      <td>NaN</td>\n",
       "      <td>O</td>\n",
       "      <td>O</td>\n",
       "      <td>중앙선 침범</td>\n",
       "      <td>50</td>\n",
       "      <td>50130</td>\n",
       "      <td>50130320</td>\n",
       "      <td>1.411887e+07</td>\n",
       "      <td>3.938561e+06</td>\n",
       "    </tr>\n",
       "    <tr>\n",
       "      <th>654358</th>\n",
       "      <td>654359</td>\n",
       "      <td>2018</td>\n",
       "      <td>12</td>\n",
       "      <td>22</td>\n",
       "      <td>14</td>\n",
       "      <td>토요일</td>\n",
       "      <td>20181222</td>\n",
       "      <td>경상사고</td>\n",
       "      <td>차대사람</td>\n",
       "      <td>0</td>\n",
       "      <td>...</td>\n",
       "      <td>NaN</td>\n",
       "      <td>O</td>\n",
       "      <td>NaN</td>\n",
       "      <td>O</td>\n",
       "      <td>안전운전 의무 불이행</td>\n",
       "      <td>50</td>\n",
       "      <td>50130</td>\n",
       "      <td>50130320</td>\n",
       "      <td>1.411162e+07</td>\n",
       "      <td>3.943230e+06</td>\n",
       "    </tr>\n",
       "  </tbody>\n",
       "</table>\n",
       "<p>654359 rows × 23 columns</p>\n",
       "</div>"
      ],
      "text/plain": [
       "        OBJT_ID  OCCU_YEAR  OCCU_MT  OCCU_DE  OCCU_TM OCCU_DAY  OCCU_DATE  \\\n",
       "0             1       2016        2       27       16      토요일   20160227   \n",
       "1             2       2016        2       28       19      일요일   20160228   \n",
       "2             3       2016        3       28        7      월요일   20160328   \n",
       "3             4       2016        4        5       13      화요일   20160405   \n",
       "4             5       2016        5       15       19      일요일   20160515   \n",
       "...         ...        ...      ...      ...      ...      ...        ...   \n",
       "654354   654355       2018       12       15       16      토요일   20181215   \n",
       "654355   654356       2018       12       15       23      토요일   20181215   \n",
       "654356   654357       2018       12       18       18      화요일   20181218   \n",
       "654357   654358       2018       12       21       11      금요일   20181221   \n",
       "654358   654359       2018       12       22       14      토요일   20181222   \n",
       "\n",
       "       LCLAS SCLAS  DEATH  ...  DRNKG  KID  ODSN WLKG     VIOLT_CN CTPRVN_CD  \\\n",
       "0       경상사고   차대차      0  ...    NaN  NaN   NaN  NaN     안전거리 미확보        11   \n",
       "1       중상사고   차대차      0  ...    NaN  NaN   NaN  NaN  안전운전 의무 불이행        11   \n",
       "2       중상사고   차대차      0  ...    NaN  NaN   NaN  NaN     안전거리 미확보        11   \n",
       "3       경상사고   차대차      0  ...    NaN  NaN     O  NaN  안전운전 의무 불이행        11   \n",
       "4       경상사고   차대차      0  ...    NaN    O   NaN  NaN     안전거리 미확보        11   \n",
       "...      ...   ...    ...  ...    ...  ...   ...  ...          ...       ...   \n",
       "654354  경상사고   차대차      0  ...    NaN  NaN   NaN  NaN         신호위반        50   \n",
       "654355  경상사고   차대차      0  ...    NaN  NaN     O  NaN         신호위반        50   \n",
       "654356  중상사고   차대차      0  ...    NaN  NaN   NaN  NaN  안전운전 의무 불이행        50   \n",
       "654357  중상사고  차대사람      0  ...    NaN  NaN     O    O       중앙선 침범        50   \n",
       "654358  경상사고  차대사람      0  ...    NaN    O   NaN    O  안전운전 의무 불이행        50   \n",
       "\n",
       "       SGG_CD    EMD_CD             X             Y  \n",
       "0       11110  11110101  1.413422e+07  4.521789e+06  \n",
       "1       11110  11110101  1.413420e+07  4.521219e+06  \n",
       "2       11110  11110101  1.413455e+07  4.521176e+06  \n",
       "3       11110  11110101  1.413401e+07  4.521163e+06  \n",
       "4       11110  11110101  1.413422e+07  4.521177e+06  \n",
       "...       ...       ...           ...           ...  \n",
       "654354  50130  50130320  1.411856e+07  3.939567e+06  \n",
       "654355  50130  50130320  1.411837e+07  3.940935e+06  \n",
       "654356  50130  50130320  1.411768e+07  3.938694e+06  \n",
       "654357  50130  50130320  1.411887e+07  3.938561e+06  \n",
       "654358  50130  50130320  1.411162e+07  3.943230e+06  \n",
       "\n",
       "[654359 rows x 23 columns]"
      ]
     },
     "execution_count": 42,
     "metadata": {},
     "output_type": "execute_result"
    }
   ],
   "source": [
    "label"
   ]
  },
  {
   "cell_type": "code",
   "execution_count": 43,
   "metadata": {},
   "outputs": [],
   "source": [
    "label = label.drop(['X','Y'],axis = 1)"
   ]
  },
  {
   "cell_type": "code",
   "execution_count": 44,
   "metadata": {},
   "outputs": [],
   "source": [
    "raw_x = label[['OCCU_MT','OCCU_DE','OCCU_TM','OCCU_DAY','OCCU_DATE']]\n",
    "raw_y = label[['DEATH']]"
   ]
  },
  {
   "cell_type": "code",
   "execution_count": 45,
   "metadata": {},
   "outputs": [
    {
     "name": "stderr",
     "output_type": "stream",
     "text": [
      "/Users/yangdongjae/opt/anaconda3/lib/python3.7/site-packages/ipykernel_launcher.py:1: SettingWithCopyWarning: \n",
      "A value is trying to be set on a copy of a slice from a DataFrame.\n",
      "Try using .loc[row_indexer,col_indexer] = value instead\n",
      "\n",
      "See the caveats in the documentation: https://pandas.pydata.org/pandas-docs/stable/user_guide/indexing.html#returning-a-view-versus-a-copy\n",
      "  \"\"\"Entry point for launching an IPython kernel.\n"
     ]
    }
   ],
   "source": [
    "raw_x['OCCU_DAY'] = raw_x['OCCU_DAY'].astype('category')"
   ]
  },
  {
   "cell_type": "code",
   "execution_count": 47,
   "metadata": {},
   "outputs": [
    {
     "data": {
      "text/plain": [
       "0         토요일\n",
       "1         일요일\n",
       "2         월요일\n",
       "3         화요일\n",
       "4         일요일\n",
       "         ... \n",
       "654354    토요일\n",
       "654355    토요일\n",
       "654356    화요일\n",
       "654357    금요일\n",
       "654358    토요일\n",
       "Name: OCCU_DAY, Length: 654359, dtype: category\n",
       "Categories (7, object): [금요일, 목요일, 수요일, 월요일, 일요일, 토요일, 화요일]"
      ]
     },
     "execution_count": 47,
     "metadata": {},
     "output_type": "execute_result"
    }
   ],
   "source": [
    "raw_x['OCCU_DAY']"
   ]
  },
  {
   "cell_type": "code",
   "execution_count": 48,
   "metadata": {},
   "outputs": [],
   "source": [
    "train_x, test_x, train_y, test_y = train_test_split(raw_x, raw_y, test_size=0.2, random_state=42)"
   ]
  },
  {
   "cell_type": "code",
   "execution_count": 49,
   "metadata": {},
   "outputs": [],
   "source": [
    "train_ds = lgb.Dataset(train_x, label = train_y)\n",
    "test_ds = lgb.Dataset(test_x, label = test_y)"
   ]
  },
  {
   "cell_type": "code",
   "execution_count": 50,
   "metadata": {},
   "outputs": [],
   "source": [
    "params = {'learning_rate': 0.01, \n",
    "          'max_depth': 16, \n",
    "          'boosting': 'gbdt', \n",
    "          'objective': 'regression', \n",
    "          'metric': 'mse', \n",
    "          'is_training_metric': True, \n",
    "          'num_leaves': 144, \n",
    "          'feature_fraction': 0.9, \n",
    "          'bagging_fraction': 0.7, \n",
    "          'bagging_freq': 5, \n",
    "          'seed':2018}"
   ]
  },
  {
   "cell_type": "code",
   "execution_count": 51,
   "metadata": {},
   "outputs": [
    {
     "name": "stdout",
     "output_type": "stream",
     "text": [
      "Training until validation scores don't improve for 100 rounds\n",
      "[100]\tvalid_0's l2: 0.0202369\n",
      "Early stopping, best iteration is:\n",
      "[90]\tvalid_0's l2: 0.0202368\n"
     ]
    }
   ],
   "source": [
    "model = lgb.train(params, train_ds, 1000, test_ds, verbose_eval=100, early_stopping_rounds=100)"
   ]
  },
  {
   "cell_type": "code",
   "execution_count": 52,
   "metadata": {},
   "outputs": [],
   "source": [
    "predict_train = model.predict(train_x)\n",
    "predict_test = model.predict(test_x)"
   ]
  },
  {
   "cell_type": "code",
   "execution_count": 53,
   "metadata": {},
   "outputs": [
    {
     "name": "stdout",
     "output_type": "stream",
     "text": [
      "Training until validation scores don't improve for 100 rounds\n",
      "[100]\tvalid_0's l2: 0.0202369\n",
      "Early stopping, best iteration is:\n",
      "[90]\tvalid_0's l2: 0.0202368\n"
     ]
    }
   ],
   "source": [
    "model = lgb.train(params , train_ds , 1000 , test_ds , verbose_eval = 100 , early_stopping_rounds = 100)"
   ]
  },
  {
   "cell_type": "code",
   "execution_count": 54,
   "metadata": {},
   "outputs": [],
   "source": [
    "predict_train = model.predict(train_x)\n",
    "predict_test = model.predict(test_x)"
   ]
  },
  {
   "cell_type": "code",
   "execution_count": 55,
   "metadata": {},
   "outputs": [],
   "source": [
    "mse = mean_squared_error(test_y, predict_test)\n",
    "r2 = r2_score(test_y, predict_test)"
   ]
  },
  {
   "cell_type": "code",
   "execution_count": 56,
   "metadata": {},
   "outputs": [
    {
     "name": "stdout",
     "output_type": "stream",
     "text": [
      "Mean squared error:  0.02023677587408378\n",
      "R2 score:  0.0019809620936437344\n"
     ]
    }
   ],
   "source": [
    "print('Mean squared error: ', mse)\n",
    "print('R2 score: ', r2)"
   ]
  },
  {
   "cell_type": "code",
   "execution_count": 57,
   "metadata": {},
   "outputs": [],
   "source": [
    "final_result = pd.concat([test_y.reset_index(drop=True), pd.DataFrame(predict_test)], axis = 1)"
   ]
  },
  {
   "cell_type": "code",
   "execution_count": 58,
   "metadata": {},
   "outputs": [],
   "source": [
    "final_result.columns = ['label','predict']"
   ]
  },
  {
   "cell_type": "code",
   "execution_count": 59,
   "metadata": {},
   "outputs": [
    {
     "data": {
      "text/plain": [
       "<matplotlib.axes._subplots.AxesSubplot at 0x7ff1a84a9710>"
      ]
     },
     "execution_count": 59,
     "metadata": {},
     "output_type": "execute_result"
    },
    {
     "data": {
      "image/png": "[encoded data removed]",
      "text/plain": [
       "<Figure size 432x288 with 1 Axes>"
      ]
     },
     "metadata": {
      "needs_background": "light"
     },
     "output_type": "display_data"
    }
   ],
   "source": [
    "sns.regplot(x = 'label', y = 'predict', data = final_result)"
   ]
  },
  {
   "cell_type": "code",
   "execution_count": null,
   "metadata": {},
   "outputs": [],
   "source": []
  }
 ],
 "metadata": {
  "kernelspec": {
   "display_name": "Python 3",
   "language": "python",
   "name": "python3"
  },
  "language_info": {
   "codemirror_mode": {
    "name": "ipython",
    "version": 3
   },
   "file_extension": ".py",
   "mimetype": "text/x-python",
   "name": "python",
   "nbconvert_exporter": "python",
   "pygments_lexer": "ipython3",
   "version": "3.7.6"
  }
 },
 "nbformat": 4,
 "nbformat_minor": 4
}

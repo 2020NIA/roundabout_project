{
 "cells": [
  {
   "cell_type": "code",
   "execution_count": 2,
   "metadata": {},
   "outputs": [],
   "source": [
    "from selenium.webdriver import Chrome, Firefox\n",
    "import time\n",
    "import pandas as pd\n",
    "from selenium import webdriver # 닫지 말아요~\n",
    "options = webdriver.ChromeOptions()\n",
    "options.add_argument(\"--start-maximized\"); # 시작할때 최대창을 띄워라\n",
    "browser = webdriver.Chrome('chromedriver', options=options)"
   ]
  },
  {
   "cell_type": "code",
   "execution_count": 3,
   "metadata": {},
   "outputs": [],
   "source": [
    "browser.get('http://www.dawuljuso.com/') # 사이트 접속\n",
    "browser.implicitly_wait(5) # 묵시적으로 5초동안 대기해라(쪼매 줄여도 됨)"
   ]
  },
  {
   "cell_type": "code",
   "execution_count": 6,
   "metadata": {},
   "outputs": [],
   "source": [
    "data = pd.read_csv('청주신호등위치.csv',encoding='cp949')"
   ]
  },
  {
   "cell_type": "code",
   "execution_count": 10,
   "metadata": {},
   "outputs": [
    {
     "data": {
      "text/plain": [
       "'흥덕구 복대동 296-5 도'"
      ]
     },
     "execution_count": 10,
     "metadata": {},
     "output_type": "execute_result"
    }
   ],
   "source": [
    "data['신호등위치'][0]"
   ]
  },
  {
   "cell_type": "code",
   "execution_count": 17,
   "metadata": {},
   "outputs": [],
   "source": [
    "browser.find_element_by_xpath('//*[@id=\"input_juso\"]').send_keys(data['신호등위치'][0])"
   ]
  },
  {
   "cell_type": "code",
   "execution_count": 18,
   "metadata": {},
   "outputs": [],
   "source": [
    "browser.find_element_by_xpath('//*[@id=\"btnSch\"]').click()"
   ]
  },
  {
   "cell_type": "code",
   "execution_count": 25,
   "metadata": {},
   "outputs": [],
   "source": [
    "tmp = browser.find_elements_by_xpath('//*[@id=\"insert_data_5\"]')[0].text"
   ]
  },
  {
   "cell_type": "code",
   "execution_count": 30,
   "metadata": {},
   "outputs": [
    {
     "data": {
      "text/plain": [
       "'36.6407589'"
      ]
     },
     "execution_count": 30,
     "metadata": {},
     "output_type": "execute_result"
    }
   ],
   "source": [
    "tmp.split(',')[1].split(':')[1]"
   ]
  },
  {
   "cell_type": "code",
   "execution_count": 31,
   "metadata": {},
   "outputs": [],
   "source": [
    "경도 = []\n",
    "위도 = []\n",
    "for i in range(data.shape[0]):\n",
    "    browser.find_element_by_xpath('//*[@id=\"input_juso\"]').send_keys(data['신호등위치'][i])\n",
    "    browser.find_element_by_xpath('//*[@id=\"btnSch\"]').click()\n",
    "    x=browser.find_elements_by_xpath('//*[@id=\"insert_data_5\"]')[0].text\n",
    "    경도.append(x.split(',')[0].split(':')[1])\n",
    "    위도.append(x.split(',')[1].split(':')[1])\n",
    "    browser.find_element_by_xpath('//*[@id=\"input_juso\"]').click()"
   ]
  },
  {
   "cell_type": "code",
   "execution_count": 34,
   "metadata": {},
   "outputs": [],
   "source": [
    "data['경도'] = 경도\n",
    "data['위도'] = 위도"
   ]
  },
  {
   "cell_type": "code",
   "execution_count": 36,
   "metadata": {},
   "outputs": [],
   "source": [
    "data.drop('Unnamed: 0',axis=1,inplace=True)\n",
    "data.to_csv('청주 신호등 위치 경위도.csv',index=False)"
   ]
  }
 ],
 "metadata": {
  "kernelspec": {
   "display_name": "Python 3",
   "language": "python",
   "name": "python3"
  },
  "language_info": {
   "codemirror_mode": {
    "name": "ipython",
    "version": 3
   },
   "file_extension": ".py",
   "mimetype": "text/x-python",
   "name": "python",
   "nbconvert_exporter": "python",
   "pygments_lexer": "ipython3",
   "version": "3.7.6"
  }
 },
 "nbformat": 4,
 "nbformat_minor": 4
}
